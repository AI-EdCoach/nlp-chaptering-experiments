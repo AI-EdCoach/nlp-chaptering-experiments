{
 "cells": [
  {
   "cell_type": "code",
   "execution_count": 1,
   "metadata": {
    "collapsed": true,
    "ExecuteTime": {
     "end_time": "2024-03-18T15:37:32.721725500Z",
     "start_time": "2024-03-18T15:37:10.863764600Z"
    }
   },
   "outputs": [
    {
     "name": "stdout",
     "output_type": "stream",
     "text": [
      "Importing the dtw module. When using in academic works please cite:\n",
      "  T. Giorgino. Computing and Visualizing Dynamic Time Warping Alignments in R: The dtw Package.\n",
      "  J. Stat. Soft., doi:10.18637/jss.v031.i07.\n",
      "\n"
     ]
    },
    {
     "name": "stderr",
     "output_type": "stream",
     "text": [
      "[nltk_data] Downloading package stopwords to\n",
      "[nltk_data]     C:\\Users\\user\\AppData\\Roaming\\nltk_data...\n",
      "[nltk_data]   Package stopwords is already up-to-date!\n"
     ]
    }
   ],
   "source": [
    "from keybert import KeyBERT\n",
    "import whisper_timestamped as whisper\n",
    "from nltk import download\n",
    "from nltk.corpus import stopwords\n",
    "\n",
    "download(\"stopwords\")\n",
    "YT_LINK = \"/content/vid test.weba\""
   ]
  },
  {
   "cell_type": "markdown",
   "source": [
    "# Hardcoded text"
   ],
   "metadata": {
    "collapsed": false
   }
  },
  {
   "cell_type": "code",
   "execution_count": 2,
   "outputs": [],
   "source": [
    "with open(\"content/oleg.txt\", \"r\", encoding=\"utf-8\") as f:\n",
    "    txt = f.read()"
   ],
   "metadata": {
    "collapsed": false,
    "ExecuteTime": {
     "end_time": "2024-03-18T15:37:32.736244600Z",
     "start_time": "2024-03-18T15:37:32.725231200Z"
    }
   }
  },
  {
   "cell_type": "markdown",
   "source": [
    "# NLP"
   ],
   "metadata": {
    "collapsed": false
   }
  },
  {
   "cell_type": "code",
   "execution_count": 3,
   "outputs": [],
   "source": [
    "from transformers import BertModel, BertTokenizerFast\n",
    "from datasets import Dataset\n",
    "import torch\n",
    "import torch.nn.functional as F\n",
    "import pandas as pd"
   ],
   "metadata": {
    "collapsed": false,
    "ExecuteTime": {
     "end_time": "2024-03-18T15:37:35.137340600Z",
     "start_time": "2024-03-18T15:37:32.739237800Z"
    }
   }
  },
  {
   "cell_type": "code",
   "execution_count": 4,
   "outputs": [],
   "source": [
    "model_checkpoint = 'bert-base-multilingual-cased'\n",
    "\n",
    "tokenizer = BertTokenizerFast.from_pretrained(model_checkpoint)\n",
    "model = BertModel.from_pretrained(model_checkpoint)\n",
    "model = model.eval()\n",
    "\n",
    "\n",
    "def get_embeddings(text):\n",
    "    inputs = tokenizer(text, return_tensors=\"pt\", padding=True, truncation=True)\n",
    "    with torch.no_grad():\n",
    "        outputs = model(**inputs)\n",
    "\n",
    "    embeddings = outputs.pooler_output\n",
    "    normalized_embeddings = F.normalize(embeddings, p=2)\n",
    "\n",
    "    return normalized_embeddings"
   ],
   "metadata": {
    "collapsed": false,
    "ExecuteTime": {
     "end_time": "2024-03-18T15:37:39.272875200Z",
     "start_time": "2024-03-18T15:37:35.141342200Z"
    }
   }
  },
  {
   "cell_type": "code",
   "execution_count": 44,
   "outputs": [],
   "source": [
    "kw_model = KeyBERT()\n",
    "\n",
    "tokens = txt.split(\" \")\n",
    "indexed_keywords = {}\n",
    "df = pd.DataFrame(columns=[\"index\", \"keywords\"])\n",
    "for i in range(200, len(tokens), 200):\n",
    "    frag = tokens[i - 200: i]\n",
    "    frag = \" \".join(frag)\n",
    "\n",
    "    doc_embeddings, word_embeddings = kw_model.extract_embeddings(frag)\n",
    "    keywords = kw_model.extract_keywords(frag,\n",
    "                                         doc_embeddings=doc_embeddings,\n",
    "                                         word_embeddings=word_embeddings)\n",
    "    indexed_keywords[i] = keywords"
   ],
   "metadata": {
    "collapsed": false,
    "ExecuteTime": {
     "end_time": "2024-03-18T15:49:54.002607900Z",
     "start_time": "2024-03-18T15:49:44.375191Z"
    }
   }
  },
  {
   "cell_type": "code",
   "execution_count": 45,
   "outputs": [],
   "source": [
    "values_dict = {\"index\": [], \"frags\": []}\n",
    "for i, keywords in indexed_keywords.items():\n",
    "    words = \" \".join([k[0] for k in keywords])\n",
    "\n",
    "    values_dict[\"index\"].append(i)\n",
    "    values_dict[\"frags\"].append(words)"
   ],
   "metadata": {
    "collapsed": false,
    "ExecuteTime": {
     "end_time": "2024-03-18T15:49:54.020203900Z",
     "start_time": "2024-03-18T15:49:54.005606700Z"
    }
   }
  },
  {
   "cell_type": "code",
   "execution_count": 46,
   "outputs": [
    {
     "data": {
      "text/plain": "   index                                              frags\n0    200            покидаю алгоритм годы комьюнити приятно\n1    400  передовой школой сотрудничества подготовки сейчас\n2    600  экспертизы экспертиза монокорпоративную формат...\n3    800  формируется алгоритм компания продуктовыми про...\n4   1000  инженерами доследовательской командной возможн...",
      "text/html": "<div>\n<style scoped>\n    .dataframe tbody tr th:only-of-type {\n        vertical-align: middle;\n    }\n\n    .dataframe tbody tr th {\n        vertical-align: top;\n    }\n\n    .dataframe thead th {\n        text-align: right;\n    }\n</style>\n<table border=\"1\" class=\"dataframe\">\n  <thead>\n    <tr style=\"text-align: right;\">\n      <th></th>\n      <th>index</th>\n      <th>frags</th>\n    </tr>\n  </thead>\n  <tbody>\n    <tr>\n      <th>0</th>\n      <td>200</td>\n      <td>покидаю алгоритм годы комьюнити приятно</td>\n    </tr>\n    <tr>\n      <th>1</th>\n      <td>400</td>\n      <td>передовой школой сотрудничества подготовки сейчас</td>\n    </tr>\n    <tr>\n      <th>2</th>\n      <td>600</td>\n      <td>экспертизы экспертиза монокорпоративную формат...</td>\n    </tr>\n    <tr>\n      <th>3</th>\n      <td>800</td>\n      <td>формируется алгоритм компания продуктовыми про...</td>\n    </tr>\n    <tr>\n      <th>4</th>\n      <td>1000</td>\n      <td>инженерами доследовательской командной возможн...</td>\n    </tr>\n  </tbody>\n</table>\n</div>"
     },
     "execution_count": 46,
     "metadata": {},
     "output_type": "execute_result"
    }
   ],
   "source": [
    "df = pd.DataFrame(values_dict)\n",
    "df.head(5)"
   ],
   "metadata": {
    "collapsed": false,
    "ExecuteTime": {
     "end_time": "2024-03-18T15:49:54.053609400Z",
     "start_time": "2024-03-18T15:49:54.020203900Z"
    }
   }
  },
  {
   "cell_type": "code",
   "execution_count": 47,
   "outputs": [
    {
     "data": {
      "text/plain": "Map:   0%|          | 0/19 [00:00<?, ? examples/s]",
      "application/vnd.jupyter.widget-view+json": {
       "version_major": 2,
       "version_minor": 0,
       "model_id": "42274b2e8a5143eaa687ee6855036af7"
      }
     },
     "metadata": {},
     "output_type": "display_data"
    }
   ],
   "source": [
    "words_dataset = Dataset.from_pandas(df)\n",
    "words_dataset = words_dataset.map(\n",
    "    lambda x: {'text_embeddings': get_embeddings(x[\"frags\"])[0]}\n",
    ")"
   ],
   "metadata": {
    "collapsed": false,
    "ExecuteTime": {
     "end_time": "2024-03-18T15:49:57.763915100Z",
     "start_time": "2024-03-18T15:49:54.036320300Z"
    }
   }
  },
  {
   "cell_type": "code",
   "execution_count": 48,
   "outputs": [
    {
     "data": {
      "text/plain": "   index                                              frags  \\\n0    200            покидаю алгоритм годы комьюнити приятно   \n1    400  передовой школой сотрудничества подготовки сейчас   \n2    600  экспертизы экспертиза монокорпоративную формат...   \n3    800  формируется алгоритм компания продуктовыми про...   \n4   1000  инженерами доследовательской командной возможн...   \n\n                                     text_embeddings  \n0  [0.028846072, -0.022257075, 0.025537428, -0.01...  \n1  [0.035737332, -0.02563613, 0.025720645, -0.023...  \n2  [0.032574058, -0.0206053, 0.020763565, -0.0272...  \n3  [0.023455705, -0.005366963, 0.022595434, -0.01...  \n4  [0.026208678, -0.0130467275, 0.014915336, -0.0...  ",
      "text/html": "<div>\n<style scoped>\n    .dataframe tbody tr th:only-of-type {\n        vertical-align: middle;\n    }\n\n    .dataframe tbody tr th {\n        vertical-align: top;\n    }\n\n    .dataframe thead th {\n        text-align: right;\n    }\n</style>\n<table border=\"1\" class=\"dataframe\">\n  <thead>\n    <tr style=\"text-align: right;\">\n      <th></th>\n      <th>index</th>\n      <th>frags</th>\n      <th>text_embeddings</th>\n    </tr>\n  </thead>\n  <tbody>\n    <tr>\n      <th>0</th>\n      <td>200</td>\n      <td>покидаю алгоритм годы комьюнити приятно</td>\n      <td>[0.028846072, -0.022257075, 0.025537428, -0.01...</td>\n    </tr>\n    <tr>\n      <th>1</th>\n      <td>400</td>\n      <td>передовой школой сотрудничества подготовки сейчас</td>\n      <td>[0.035737332, -0.02563613, 0.025720645, -0.023...</td>\n    </tr>\n    <tr>\n      <th>2</th>\n      <td>600</td>\n      <td>экспертизы экспертиза монокорпоративную формат...</td>\n      <td>[0.032574058, -0.0206053, 0.020763565, -0.0272...</td>\n    </tr>\n    <tr>\n      <th>3</th>\n      <td>800</td>\n      <td>формируется алгоритм компания продуктовыми про...</td>\n      <td>[0.023455705, -0.005366963, 0.022595434, -0.01...</td>\n    </tr>\n    <tr>\n      <th>4</th>\n      <td>1000</td>\n      <td>инженерами доследовательской командной возможн...</td>\n      <td>[0.026208678, -0.0130467275, 0.014915336, -0.0...</td>\n    </tr>\n  </tbody>\n</table>\n</div>"
     },
     "execution_count": 48,
     "metadata": {},
     "output_type": "execute_result"
    }
   ],
   "source": [
    "words_dataset.to_pandas().head()"
   ],
   "metadata": {
    "collapsed": false,
    "ExecuteTime": {
     "end_time": "2024-03-18T15:49:57.805636200Z",
     "start_time": "2024-03-18T15:49:57.766935500Z"
    }
   }
  },
  {
   "cell_type": "code",
   "execution_count": 49,
   "outputs": [
    {
     "data": {
      "text/plain": "  0%|          | 0/1 [00:00<?, ?it/s]",
      "application/vnd.jupyter.widget-view+json": {
       "version_major": 2,
       "version_minor": 0,
       "model_id": "8b7d7d8b201b423088015f51866159fe"
      }
     },
     "metadata": {},
     "output_type": "display_data"
    }
   ],
   "source": [
    "words_dataset = words_dataset.add_faiss_index(column='text_embeddings')"
   ],
   "metadata": {
    "collapsed": false,
    "ExecuteTime": {
     "end_time": "2024-03-18T15:49:57.833146700Z",
     "start_time": "2024-03-18T15:49:57.797124Z"
    }
   }
  },
  {
   "cell_type": "code",
   "execution_count": 55,
   "outputs": [
    {
     "data": {
      "text/plain": "   index                                              frags  \\\n0    200            покидаю алгоритм годы комьюнити приятно   \n1    400  передовой школой сотрудничества подготовки сейчас   \n2    600  экспертизы экспертиза монокорпоративную формат...   \n3    800  формируется алгоритм компания продуктовыми про...   \n4   1000  инженерами доследовательской командной возможн...   \n\n                                     text_embeddings  \n0  [0.028846072, -0.022257075, 0.025537428, -0.01...  \n1  [0.035737332, -0.02563613, 0.025720645, -0.023...  \n2  [0.032574058, -0.0206053, 0.020763565, -0.0272...  \n3  [0.023455705, -0.005366963, 0.022595434, -0.01...  \n4  [0.026208678, -0.0130467275, 0.014915336, -0.0...  ",
      "text/html": "<div>\n<style scoped>\n    .dataframe tbody tr th:only-of-type {\n        vertical-align: middle;\n    }\n\n    .dataframe tbody tr th {\n        vertical-align: top;\n    }\n\n    .dataframe thead th {\n        text-align: right;\n    }\n</style>\n<table border=\"1\" class=\"dataframe\">\n  <thead>\n    <tr style=\"text-align: right;\">\n      <th></th>\n      <th>index</th>\n      <th>frags</th>\n      <th>text_embeddings</th>\n    </tr>\n  </thead>\n  <tbody>\n    <tr>\n      <th>0</th>\n      <td>200</td>\n      <td>покидаю алгоритм годы комьюнити приятно</td>\n      <td>[0.028846072, -0.022257075, 0.025537428, -0.01...</td>\n    </tr>\n    <tr>\n      <th>1</th>\n      <td>400</td>\n      <td>передовой школой сотрудничества подготовки сейчас</td>\n      <td>[0.035737332, -0.02563613, 0.025720645, -0.023...</td>\n    </tr>\n    <tr>\n      <th>2</th>\n      <td>600</td>\n      <td>экспертизы экспертиза монокорпоративную формат...</td>\n      <td>[0.032574058, -0.0206053, 0.020763565, -0.0272...</td>\n    </tr>\n    <tr>\n      <th>3</th>\n      <td>800</td>\n      <td>формируется алгоритм компания продуктовыми про...</td>\n      <td>[0.023455705, -0.005366963, 0.022595434, -0.01...</td>\n    </tr>\n    <tr>\n      <th>4</th>\n      <td>1000</td>\n      <td>инженерами доследовательской командной возможн...</td>\n      <td>[0.026208678, -0.0130467275, 0.014915336, -0.0...</td>\n    </tr>\n  </tbody>\n</table>\n</div>"
     },
     "execution_count": 55,
     "metadata": {},
     "output_type": "execute_result"
    }
   ],
   "source": [
    "test_frag_1 = words_dataset.to_pandas().head()['text_embeddings'][1]\n",
    "words_dataset.to_pandas().head()"
   ],
   "metadata": {
    "collapsed": false,
    "ExecuteTime": {
     "end_time": "2024-03-18T16:19:58.712847300Z",
     "start_time": "2024-03-18T16:19:58.651738900Z"
    }
   }
  },
  {
   "cell_type": "code",
   "execution_count": 63,
   "outputs": [
    {
     "data": {
      "text/plain": "[('покидаю', 0.3988),\n ('алгоритм', 0.3596),\n ('годы', 0.3579),\n ('комьюнити', 0.3568),\n ('приятно', 0.3564)]"
     },
     "execution_count": 63,
     "metadata": {},
     "output_type": "execute_result"
    }
   ],
   "source": [
    "indexed_keywords[200]"
   ],
   "metadata": {
    "collapsed": false,
    "ExecuteTime": {
     "end_time": "2024-03-18T16:22:57.779873300Z",
     "start_time": "2024-03-18T16:22:57.731953100Z"
    }
   }
  },
  {
   "cell_type": "code",
   "execution_count": 64,
   "outputs": [],
   "source": [
    "scores, samples = words_dataset.get_nearest_examples('text_embeddings', test_frag_1, k=15)\n",
    "demo_df = pd.DataFrame({\"index\": samples['index']})\n",
    "demo_df[\"score_to_1\"] = scores\n",
    "demo_df[\"keywords\"] = demo_df[\"index\"].apply(lambda x: [w[0] for w in indexed_keywords[x]])"
   ],
   "metadata": {
    "collapsed": false,
    "ExecuteTime": {
     "end_time": "2024-03-18T16:23:29.468688200Z",
     "start_time": "2024-03-18T16:23:29.436428200Z"
    }
   }
  },
  {
   "cell_type": "code",
   "execution_count": 65,
   "outputs": [
    {
     "data": {
      "text/plain": "    index  score_to_5                                           keywords\n0     400    0.000000  [передовой, школой, сотрудничества, подготовки...\n1    3000    0.043668  [профилю, роли, образовательный, хотели, биоте...\n2    3800    0.043825  [взаимодействия, разной, конверсия, поисковике...\n3    2200    0.045507  [нанимающими, какой, требования, компаниях, ко...\n4     600    0.046161  [экспертизы, экспертиза, монокорпоративную, фо...\n5    1600    0.049893  [взаимодействия, который, эксперты, исходим, с...\n6    1000    0.057495  [инженерами, доследовательской, командной, воз...\n7     800    0.062978  [формируется, алгоритм, компания, продуктовыми...\n8    1400    0.063792  [новосибирск, инструментария, бизнес, бизнесом...\n9    1800    0.066138  [помогают, программировали, приходит, возможно...\n10   2000    0.081485      [нахождения, изжили, модели, делали, позиции]\n11   3600    0.082639  [коммерческие, понимание, искра, специалистов,...\n12   3400    0.085586  [измениться, изменится, изменениями, статьи, г...\n13    200    0.094090      [покидаю, алгоритм, годы, комьюнити, приятно]\n14   1200    0.108694        [ценность, песточницу, целом, просто, сути]",
      "text/html": "<div>\n<style scoped>\n    .dataframe tbody tr th:only-of-type {\n        vertical-align: middle;\n    }\n\n    .dataframe tbody tr th {\n        vertical-align: top;\n    }\n\n    .dataframe thead th {\n        text-align: right;\n    }\n</style>\n<table border=\"1\" class=\"dataframe\">\n  <thead>\n    <tr style=\"text-align: right;\">\n      <th></th>\n      <th>index</th>\n      <th>score_to_5</th>\n      <th>keywords</th>\n    </tr>\n  </thead>\n  <tbody>\n    <tr>\n      <th>0</th>\n      <td>400</td>\n      <td>0.000000</td>\n      <td>[передовой, школой, сотрудничества, подготовки...</td>\n    </tr>\n    <tr>\n      <th>1</th>\n      <td>3000</td>\n      <td>0.043668</td>\n      <td>[профилю, роли, образовательный, хотели, биоте...</td>\n    </tr>\n    <tr>\n      <th>2</th>\n      <td>3800</td>\n      <td>0.043825</td>\n      <td>[взаимодействия, разной, конверсия, поисковике...</td>\n    </tr>\n    <tr>\n      <th>3</th>\n      <td>2200</td>\n      <td>0.045507</td>\n      <td>[нанимающими, какой, требования, компаниях, ко...</td>\n    </tr>\n    <tr>\n      <th>4</th>\n      <td>600</td>\n      <td>0.046161</td>\n      <td>[экспертизы, экспертиза, монокорпоративную, фо...</td>\n    </tr>\n    <tr>\n      <th>5</th>\n      <td>1600</td>\n      <td>0.049893</td>\n      <td>[взаимодействия, который, эксперты, исходим, с...</td>\n    </tr>\n    <tr>\n      <th>6</th>\n      <td>1000</td>\n      <td>0.057495</td>\n      <td>[инженерами, доследовательской, командной, воз...</td>\n    </tr>\n    <tr>\n      <th>7</th>\n      <td>800</td>\n      <td>0.062978</td>\n      <td>[формируется, алгоритм, компания, продуктовыми...</td>\n    </tr>\n    <tr>\n      <th>8</th>\n      <td>1400</td>\n      <td>0.063792</td>\n      <td>[новосибирск, инструментария, бизнес, бизнесом...</td>\n    </tr>\n    <tr>\n      <th>9</th>\n      <td>1800</td>\n      <td>0.066138</td>\n      <td>[помогают, программировали, приходит, возможно...</td>\n    </tr>\n    <tr>\n      <th>10</th>\n      <td>2000</td>\n      <td>0.081485</td>\n      <td>[нахождения, изжили, модели, делали, позиции]</td>\n    </tr>\n    <tr>\n      <th>11</th>\n      <td>3600</td>\n      <td>0.082639</td>\n      <td>[коммерческие, понимание, искра, специалистов,...</td>\n    </tr>\n    <tr>\n      <th>12</th>\n      <td>3400</td>\n      <td>0.085586</td>\n      <td>[измениться, изменится, изменениями, статьи, г...</td>\n    </tr>\n    <tr>\n      <th>13</th>\n      <td>200</td>\n      <td>0.094090</td>\n      <td>[покидаю, алгоритм, годы, комьюнити, приятно]</td>\n    </tr>\n    <tr>\n      <th>14</th>\n      <td>1200</td>\n      <td>0.108694</td>\n      <td>[ценность, песточницу, целом, просто, сути]</td>\n    </tr>\n  </tbody>\n</table>\n</div>"
     },
     "execution_count": 65,
     "metadata": {},
     "output_type": "execute_result"
    }
   ],
   "source": [
    "demo_df"
   ],
   "metadata": {
    "collapsed": false,
    "ExecuteTime": {
     "end_time": "2024-03-18T16:23:30.466367300Z",
     "start_time": "2024-03-18T16:23:30.435901400Z"
    }
   }
  },
  {
   "cell_type": "markdown",
   "source": [
    "## Sentence transformers"
   ],
   "metadata": {
    "collapsed": false
   }
  },
  {
   "cell_type": "code",
   "execution_count": 96,
   "outputs": [],
   "source": [
    "with open(\"content/test_text.txt\", \"r\", encoding=\"utf-8\") as f:\n",
    "    txt = f.read()"
   ],
   "metadata": {
    "collapsed": false,
    "ExecuteTime": {
     "end_time": "2024-03-18T19:19:37.712942900Z",
     "start_time": "2024-03-18T19:19:37.691432100Z"
    }
   }
  },
  {
   "cell_type": "code",
   "execution_count": 97,
   "outputs": [],
   "source": [
    "from sentence_transformers import SentenceTransformer\n",
    "\n",
    "model = SentenceTransformer(\"all-MiniLM-L6-v2\")\n",
    "\n",
    "sentences = txt.split(\".\")\n",
    "embeddings = model.encode(sentences)"
   ],
   "metadata": {
    "collapsed": false,
    "ExecuteTime": {
     "end_time": "2024-03-18T19:19:39.898164Z",
     "start_time": "2024-03-18T19:19:37.898218800Z"
    }
   }
  },
  {
   "cell_type": "code",
   "execution_count": 98,
   "outputs": [],
   "source": [
    "def get_sentence_embeddings(sentence):\n",
    "    embeddings = model.encode(sentence)\n",
    "    return embeddings"
   ],
   "metadata": {
    "collapsed": false,
    "ExecuteTime": {
     "end_time": "2024-03-18T19:19:54.574039300Z",
     "start_time": "2024-03-18T19:19:54.549451Z"
    }
   }
  },
  {
   "cell_type": "code",
   "execution_count": 99,
   "outputs": [],
   "source": [
    "values_dict = {\"index\":[], \"sentence\": [], \"embedding\": []}\n",
    "for i, sentence in enumerate(sentences):\n",
    "    values_dict[\"index\"].append(i)\n",
    "    values_dict[\"sentence\"].append(sentence.strip())\n",
    "    values_dict[\"embedding\"].append(get_sentence_embeddings(sentence))\n"
   ],
   "metadata": {
    "collapsed": false,
    "ExecuteTime": {
     "end_time": "2024-03-18T19:19:55.131571800Z",
     "start_time": "2024-03-18T19:19:54.733183600Z"
    }
   }
  },
  {
   "cell_type": "code",
   "execution_count": 100,
   "outputs": [
    {
     "data": {
      "text/plain": "   index                                           sentence  \\\n0      0  Once upon a time, in a faraway kingdom, there ...   \n1      1  He was known for his bravery and kindness, tra...   \n2      2  But little did he know, his life was about to ...   \n3      3  As Alexander rode through the forest on his tr...   \n4      4  Curiosity piqued, he dismounted and approached...   \n\n                                           embedding  \n0  [-0.041774653, 0.0841553, -0.008771699, 0.0614...  \n1  [0.038933642, 0.11603221, -0.0348304, 0.029169...  \n2  [0.07921023, 0.07200449, 0.012013881, 0.044593...  \n3  [0.06117729, 0.020715937, -0.016838152, 0.0684...  \n4  [0.019852942, 0.08398955, -0.010187379, 0.0162...  ",
      "text/html": "<div>\n<style scoped>\n    .dataframe tbody tr th:only-of-type {\n        vertical-align: middle;\n    }\n\n    .dataframe tbody tr th {\n        vertical-align: top;\n    }\n\n    .dataframe thead th {\n        text-align: right;\n    }\n</style>\n<table border=\"1\" class=\"dataframe\">\n  <thead>\n    <tr style=\"text-align: right;\">\n      <th></th>\n      <th>index</th>\n      <th>sentence</th>\n      <th>embedding</th>\n    </tr>\n  </thead>\n  <tbody>\n    <tr>\n      <th>0</th>\n      <td>0</td>\n      <td>Once upon a time, in a faraway kingdom, there ...</td>\n      <td>[-0.041774653, 0.0841553, -0.008771699, 0.0614...</td>\n    </tr>\n    <tr>\n      <th>1</th>\n      <td>1</td>\n      <td>He was known for his bravery and kindness, tra...</td>\n      <td>[0.038933642, 0.11603221, -0.0348304, 0.029169...</td>\n    </tr>\n    <tr>\n      <th>2</th>\n      <td>2</td>\n      <td>But little did he know, his life was about to ...</td>\n      <td>[0.07921023, 0.07200449, 0.012013881, 0.044593...</td>\n    </tr>\n    <tr>\n      <th>3</th>\n      <td>3</td>\n      <td>As Alexander rode through the forest on his tr...</td>\n      <td>[0.06117729, 0.020715937, -0.016838152, 0.0684...</td>\n    </tr>\n    <tr>\n      <th>4</th>\n      <td>4</td>\n      <td>Curiosity piqued, he dismounted and approached...</td>\n      <td>[0.019852942, 0.08398955, -0.010187379, 0.0162...</td>\n    </tr>\n  </tbody>\n</table>\n</div>"
     },
     "execution_count": 100,
     "metadata": {},
     "output_type": "execute_result"
    }
   ],
   "source": [
    "df = pd.DataFrame(values_dict)\n",
    "df.head(5)"
   ],
   "metadata": {
    "collapsed": false,
    "ExecuteTime": {
     "end_time": "2024-03-18T19:19:55.144117700Z",
     "start_time": "2024-03-18T19:19:55.113507Z"
    }
   }
  },
  {
   "cell_type": "code",
   "execution_count": 101,
   "outputs": [
    {
     "data": {
      "text/plain": "  0%|          | 0/1 [00:00<?, ?it/s]",
      "application/vnd.jupyter.widget-view+json": {
       "version_major": 2,
       "version_minor": 0,
       "model_id": "7df8a7b8e9fd45b589f40ba1259d585c"
      }
     },
     "metadata": {},
     "output_type": "display_data"
    }
   ],
   "source": [
    "sentence_dataset = Dataset.from_pandas(df)\n",
    "sentence_dataset = sentence_dataset.add_faiss_index(column='embedding')"
   ],
   "metadata": {
    "collapsed": false,
    "ExecuteTime": {
     "end_time": "2024-03-18T19:19:55.201115200Z",
     "start_time": "2024-03-18T19:19:55.145119200Z"
    }
   }
  },
  {
   "cell_type": "code",
   "execution_count": 102,
   "outputs": [
    {
     "data": {
      "text/plain": "   index                                           sentence  \\\n0      0  Once upon a time, in a faraway kingdom, there ...   \n1      1  He was known for his bravery and kindness, tra...   \n2      2  But little did he know, his life was about to ...   \n3      3  As Alexander rode through the forest on his tr...   \n4      4  Curiosity piqued, he dismounted and approached...   \n\n                                           embedding  \n0  [-0.041774653, 0.0841553, -0.008771699, 0.0614...  \n1  [0.038933642, 0.11603221, -0.0348304, 0.029169...  \n2  [0.07921023, 0.07200449, 0.012013881, 0.044593...  \n3  [0.06117729, 0.020715937, -0.016838152, 0.0684...  \n4  [0.019852942, 0.08398955, -0.010187379, 0.0162...  ",
      "text/html": "<div>\n<style scoped>\n    .dataframe tbody tr th:only-of-type {\n        vertical-align: middle;\n    }\n\n    .dataframe tbody tr th {\n        vertical-align: top;\n    }\n\n    .dataframe thead th {\n        text-align: right;\n    }\n</style>\n<table border=\"1\" class=\"dataframe\">\n  <thead>\n    <tr style=\"text-align: right;\">\n      <th></th>\n      <th>index</th>\n      <th>sentence</th>\n      <th>embedding</th>\n    </tr>\n  </thead>\n  <tbody>\n    <tr>\n      <th>0</th>\n      <td>0</td>\n      <td>Once upon a time, in a faraway kingdom, there ...</td>\n      <td>[-0.041774653, 0.0841553, -0.008771699, 0.0614...</td>\n    </tr>\n    <tr>\n      <th>1</th>\n      <td>1</td>\n      <td>He was known for his bravery and kindness, tra...</td>\n      <td>[0.038933642, 0.11603221, -0.0348304, 0.029169...</td>\n    </tr>\n    <tr>\n      <th>2</th>\n      <td>2</td>\n      <td>But little did he know, his life was about to ...</td>\n      <td>[0.07921023, 0.07200449, 0.012013881, 0.044593...</td>\n    </tr>\n    <tr>\n      <th>3</th>\n      <td>3</td>\n      <td>As Alexander rode through the forest on his tr...</td>\n      <td>[0.06117729, 0.020715937, -0.016838152, 0.0684...</td>\n    </tr>\n    <tr>\n      <th>4</th>\n      <td>4</td>\n      <td>Curiosity piqued, he dismounted and approached...</td>\n      <td>[0.019852942, 0.08398955, -0.010187379, 0.0162...</td>\n    </tr>\n  </tbody>\n</table>\n</div>"
     },
     "execution_count": 102,
     "metadata": {},
     "output_type": "execute_result"
    }
   ],
   "source": [
    "test_frag_1 = sentence_dataset.to_pandas().head()['embedding'][1]\n",
    "sentence_dataset.to_pandas().head()"
   ],
   "metadata": {
    "collapsed": false,
    "ExecuteTime": {
     "end_time": "2024-03-18T19:19:55.310653500Z",
     "start_time": "2024-03-18T19:19:55.245645600Z"
    }
   }
  },
  {
   "cell_type": "code",
   "execution_count": 103,
   "outputs": [],
   "source": [
    "scores, samples = sentence_dataset.get_nearest_examples('embedding', test_frag_1, k=100)\n",
    "demo_df = pd.DataFrame({\"index\": samples['index']})\n",
    "demo_df[\"score_to_1\"] = scores"
   ],
   "metadata": {
    "collapsed": false,
    "ExecuteTime": {
     "end_time": "2024-03-18T19:19:55.524124Z",
     "start_time": "2024-03-18T19:19:55.429866900Z"
    }
   }
  },
  {
   "cell_type": "code",
   "execution_count": 104,
   "outputs": [
    {
     "data": {
      "text/plain": "    index  score_to_1\n0       1    0.000000\n1      12    0.734333\n2      18    0.877443\n3      14    1.026736\n4       2    1.137291\n5      11    1.312388\n6      17    1.351491\n7      13    1.392522\n8      16    1.398336\n9       6    1.407156\n10     10    1.441725\n11      9    1.480592\n12      4    1.497926\n13      3    1.522953\n14     15    1.535241\n15      8    1.550579\n16      0    1.662943\n17      5    1.665223\n18      7    1.697118\n19     19    1.730325\n20     21    1.914126\n21     20    2.144028",
      "text/html": "<div>\n<style scoped>\n    .dataframe tbody tr th:only-of-type {\n        vertical-align: middle;\n    }\n\n    .dataframe tbody tr th {\n        vertical-align: top;\n    }\n\n    .dataframe thead th {\n        text-align: right;\n    }\n</style>\n<table border=\"1\" class=\"dataframe\">\n  <thead>\n    <tr style=\"text-align: right;\">\n      <th></th>\n      <th>index</th>\n      <th>score_to_1</th>\n    </tr>\n  </thead>\n  <tbody>\n    <tr>\n      <th>0</th>\n      <td>1</td>\n      <td>0.000000</td>\n    </tr>\n    <tr>\n      <th>1</th>\n      <td>12</td>\n      <td>0.734333</td>\n    </tr>\n    <tr>\n      <th>2</th>\n      <td>18</td>\n      <td>0.877443</td>\n    </tr>\n    <tr>\n      <th>3</th>\n      <td>14</td>\n      <td>1.026736</td>\n    </tr>\n    <tr>\n      <th>4</th>\n      <td>2</td>\n      <td>1.137291</td>\n    </tr>\n    <tr>\n      <th>5</th>\n      <td>11</td>\n      <td>1.312388</td>\n    </tr>\n    <tr>\n      <th>6</th>\n      <td>17</td>\n      <td>1.351491</td>\n    </tr>\n    <tr>\n      <th>7</th>\n      <td>13</td>\n      <td>1.392522</td>\n    </tr>\n    <tr>\n      <th>8</th>\n      <td>16</td>\n      <td>1.398336</td>\n    </tr>\n    <tr>\n      <th>9</th>\n      <td>6</td>\n      <td>1.407156</td>\n    </tr>\n    <tr>\n      <th>10</th>\n      <td>10</td>\n      <td>1.441725</td>\n    </tr>\n    <tr>\n      <th>11</th>\n      <td>9</td>\n      <td>1.480592</td>\n    </tr>\n    <tr>\n      <th>12</th>\n      <td>4</td>\n      <td>1.497926</td>\n    </tr>\n    <tr>\n      <th>13</th>\n      <td>3</td>\n      <td>1.522953</td>\n    </tr>\n    <tr>\n      <th>14</th>\n      <td>15</td>\n      <td>1.535241</td>\n    </tr>\n    <tr>\n      <th>15</th>\n      <td>8</td>\n      <td>1.550579</td>\n    </tr>\n    <tr>\n      <th>16</th>\n      <td>0</td>\n      <td>1.662943</td>\n    </tr>\n    <tr>\n      <th>17</th>\n      <td>5</td>\n      <td>1.665223</td>\n    </tr>\n    <tr>\n      <th>18</th>\n      <td>7</td>\n      <td>1.697118</td>\n    </tr>\n    <tr>\n      <th>19</th>\n      <td>19</td>\n      <td>1.730325</td>\n    </tr>\n    <tr>\n      <th>20</th>\n      <td>21</td>\n      <td>1.914126</td>\n    </tr>\n    <tr>\n      <th>21</th>\n      <td>20</td>\n      <td>2.144028</td>\n    </tr>\n  </tbody>\n</table>\n</div>"
     },
     "execution_count": 104,
     "metadata": {},
     "output_type": "execute_result"
    }
   ],
   "source": [
    "demo_df"
   ],
   "metadata": {
    "collapsed": false,
    "ExecuteTime": {
     "end_time": "2024-03-18T19:19:55.649877Z",
     "start_time": "2024-03-18T19:19:55.559983200Z"
    }
   }
  },
  {
   "cell_type": "markdown",
   "source": [
    "## Sentence transformers"
   ],
   "metadata": {
    "collapsed": false
   }
  },
  {
   "cell_type": "code",
   "execution_count": 117,
   "outputs": [],
   "source": [
    "with open(\"content/test_text.txt\", \"r\", encoding=\"utf-8\") as f:\n",
    "    txt = f.read()"
   ],
   "metadata": {
    "collapsed": false,
    "ExecuteTime": {
     "end_time": "2024-03-18T20:00:13.706369300Z",
     "start_time": "2024-03-18T20:00:13.682114400Z"
    }
   }
  },
  {
   "cell_type": "code",
   "execution_count": 118,
   "outputs": [],
   "source": [
    "from sklearn.cluster import KMeans\n",
    "from sentence_transformers import SentenceTransformer"
   ],
   "metadata": {
    "collapsed": false,
    "ExecuteTime": {
     "end_time": "2024-03-18T20:00:14.175351300Z",
     "start_time": "2024-03-18T20:00:14.151812800Z"
    }
   }
  },
  {
   "cell_type": "code",
   "execution_count": 119,
   "outputs": [],
   "source": [
    "embedder = SentenceTransformer(\"all-MiniLM-L6-v2\")\n",
    "\n",
    "sentences = txt.split(\".\")\n",
    "sentences = [s.strip() for s in sentences if len(s) > 0]\n",
    "embeddings = model.encode(sentences)"
   ],
   "metadata": {
    "collapsed": false,
    "ExecuteTime": {
     "end_time": "2024-03-18T20:00:28.521315300Z",
     "start_time": "2024-03-18T20:00:15.128034900Z"
    }
   }
  },
  {
   "cell_type": "code",
   "execution_count": 120,
   "outputs": [],
   "source": [
    "num_clusters = 4\n",
    "clustering_model = KMeans(n_clusters=num_clusters)\n",
    "clustering_model.fit(embeddings)\n",
    "cluster_assignment = clustering_model.labels_"
   ],
   "metadata": {
    "collapsed": false,
    "ExecuteTime": {
     "end_time": "2024-03-18T20:00:28.536372800Z",
     "start_time": "2024-03-18T20:00:28.525317100Z"
    }
   }
  },
  {
   "cell_type": "code",
   "execution_count": 121,
   "outputs": [
    {
     "name": "stdout",
     "output_type": "stream",
     "text": [
      "Cluster  1\n",
      "['Inside the cottage stood a beautiful enchantress, her eyes sparkling with magic', 'She introduced herself as Elara and revealed that she had been expecting him']\n",
      "\n",
      "Cluster  2\n",
      "['Once upon a time, in a faraway kingdom, there lived a young prince named Alexander', 'As Alexander rode through the forest on his trusty steed, he stumbled upon a mysterious old cottage hidden amongst the trees', 'Curiosity piqued, he dismounted and approached cautiously', 'The cottage seemed abandoned, yet an eerie aura surrounded it, sending shivers down his spine', 'As Alexander pushed open the creaky door, he was greeted by a sight that left him speechless', 'Elara explained that Alexander was the chosen one, destined to embark on a quest to save the kingdom from an ancient evil that threatened to engulf it', 'As he traversed mountains and crossed treacherous seas, Alexander faced countless trials and tribulations', 'At long last, Alexander reached the heart of darkness, where the malevolent force that threatened the kingdom lay in wait']\n",
      "\n",
      "Cluster  3\n",
      "['He was known for his bravery and kindness, traits that endeared him to all who knew him', 'But little did he know, his life was about to change in ways he could never have imagined', 'She bestowed upon him a magical amulet, imbued with the power to defeat the darkness and restore peace to the land', 'With the weight of destiny resting upon his shoulders, Alexander set out on his journey, determined to fulfill his role as the savior of his people', 'Along the way, he encountered allies and adversaries alike, each testing his courage and resolve', 'Yet through it all, he remained steadfast in his mission, fueled by the belief that good would always triumph over evil', 'With the power of the amulet coursing through his veins, he confronted the evil head-on, engaging in a battle of epic proportions', \"In the end, it was not brute strength or magical prowess that secured victory, but the strength of Alexander's heart\", 'With courage and compassion, he vanquished the darkness and restored balance to the world, fulfilling his destiny and earning the eternal gratitude of his people']\n",
      "\n",
      "Cluster  4\n",
      "[\"This text sample contains four chapters, each with its own title indicating the beginning, key events, and the conclusion of Alexander's journey\", 'You can use this synthetic dataset to train a chapter boundaries classification model, where each sentence is labeled to indicate whether it belongs to the start or end of a chapter']\n",
      "\n"
     ]
    }
   ],
   "source": [
    "clustered_sentences = [[] for i in range(num_clusters)]\n",
    "for sentence_id, cluster_id in enumerate(cluster_assignment):\n",
    "    clustered_sentences[cluster_id].append(sentences[sentence_id])\n",
    "\n",
    "for i, cluster in enumerate(clustered_sentences):\n",
    "    print(\"Cluster \", i+1)\n",
    "    print(cluster)\n",
    "    print(\"\")"
   ],
   "metadata": {
    "collapsed": false,
    "ExecuteTime": {
     "end_time": "2024-03-18T20:00:28.598194400Z",
     "start_time": "2024-03-18T20:00:28.538891100Z"
    }
   }
  },
  {
   "cell_type": "code",
   "execution_count": 122,
   "outputs": [],
   "source": [
    "values_dict = {\"index\":[], \"sentence\": []}\n",
    "for i, sentence in enumerate(sentences):\n",
    "    values_dict[\"index\"].append(i)\n",
    "    values_dict[\"sentence\"].append(sentence.strip())\n",
    "\n",
    "df = pd.DataFrame(values_dict)"
   ],
   "metadata": {
    "collapsed": false,
    "ExecuteTime": {
     "end_time": "2024-03-18T20:00:28.619033Z",
     "start_time": "2024-03-18T20:00:28.556416300Z"
    }
   }
  },
  {
   "cell_type": "code",
   "execution_count": 123,
   "outputs": [],
   "source": [
    "for i, cluster in enumerate(clustered_sentences):\n",
    "    df[f\"cluster_{i}\"] = df[\"sentence\"].apply(lambda x: 1 if x in cluster else 0)\n"
   ],
   "metadata": {
    "collapsed": false,
    "ExecuteTime": {
     "end_time": "2024-03-18T20:00:28.619279800Z",
     "start_time": "2024-03-18T20:00:28.573046Z"
    }
   }
  },
  {
   "cell_type": "code",
   "execution_count": 125,
   "outputs": [
    {
     "data": {
      "text/plain": "   index                                           sentence  cluster_0  \\\n0      0  Once upon a time, in a faraway kingdom, there ...          0   \n1      1  He was known for his bravery and kindness, tra...          0   \n2      2  But little did he know, his life was about to ...          0   \n3      3  As Alexander rode through the forest on his tr...          0   \n4      4  Curiosity piqued, he dismounted and approached...          0   \n\n   cluster_1  cluster_2  cluster_3  \n0          1          0          0  \n1          0          1          0  \n2          0          1          0  \n3          1          0          0  \n4          1          0          0  ",
      "text/html": "<div>\n<style scoped>\n    .dataframe tbody tr th:only-of-type {\n        vertical-align: middle;\n    }\n\n    .dataframe tbody tr th {\n        vertical-align: top;\n    }\n\n    .dataframe thead th {\n        text-align: right;\n    }\n</style>\n<table border=\"1\" class=\"dataframe\">\n  <thead>\n    <tr style=\"text-align: right;\">\n      <th></th>\n      <th>index</th>\n      <th>sentence</th>\n      <th>cluster_0</th>\n      <th>cluster_1</th>\n      <th>cluster_2</th>\n      <th>cluster_3</th>\n    </tr>\n  </thead>\n  <tbody>\n    <tr>\n      <th>0</th>\n      <td>0</td>\n      <td>Once upon a time, in a faraway kingdom, there ...</td>\n      <td>0</td>\n      <td>1</td>\n      <td>0</td>\n      <td>0</td>\n    </tr>\n    <tr>\n      <th>1</th>\n      <td>1</td>\n      <td>He was known for his bravery and kindness, tra...</td>\n      <td>0</td>\n      <td>0</td>\n      <td>1</td>\n      <td>0</td>\n    </tr>\n    <tr>\n      <th>2</th>\n      <td>2</td>\n      <td>But little did he know, his life was about to ...</td>\n      <td>0</td>\n      <td>0</td>\n      <td>1</td>\n      <td>0</td>\n    </tr>\n    <tr>\n      <th>3</th>\n      <td>3</td>\n      <td>As Alexander rode through the forest on his tr...</td>\n      <td>0</td>\n      <td>1</td>\n      <td>0</td>\n      <td>0</td>\n    </tr>\n    <tr>\n      <th>4</th>\n      <td>4</td>\n      <td>Curiosity piqued, he dismounted and approached...</td>\n      <td>0</td>\n      <td>1</td>\n      <td>0</td>\n      <td>0</td>\n    </tr>\n  </tbody>\n</table>\n</div>"
     },
     "execution_count": 125,
     "metadata": {},
     "output_type": "execute_result"
    }
   ],
   "source": [
    "df.head()"
   ],
   "metadata": {
    "collapsed": false,
    "ExecuteTime": {
     "end_time": "2024-03-18T20:01:07.430463400Z",
     "start_time": "2024-03-18T20:01:07.387033Z"
    }
   }
  },
  {
   "cell_type": "code",
   "execution_count": null,
   "outputs": [],
   "source": [],
   "metadata": {
    "collapsed": false
   }
  }
 ],
 "metadata": {
  "kernelspec": {
   "display_name": "Python 3",
   "language": "python",
   "name": "python3"
  },
  "language_info": {
   "codemirror_mode": {
    "name": "ipython",
    "version": 2
   },
   "file_extension": ".py",
   "mimetype": "text/x-python",
   "name": "python",
   "nbconvert_exporter": "python",
   "pygments_lexer": "ipython2",
   "version": "2.7.6"
  }
 },
 "nbformat": 4,
 "nbformat_minor": 0
}
