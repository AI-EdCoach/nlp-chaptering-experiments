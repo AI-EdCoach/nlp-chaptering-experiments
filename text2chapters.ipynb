{
 "cells": [
  {
   "cell_type": "code",
   "execution_count": 1,
   "metadata": {
    "collapsed": true,
    "ExecuteTime": {
     "end_time": "2024-03-18T08:21:18.568221900Z",
     "start_time": "2024-03-18T08:21:08.430943400Z"
    }
   },
   "outputs": [
    {
     "name": "stdout",
     "output_type": "stream",
     "text": [
      "Importing the dtw module. When using in academic works please cite:\n",
      "  T. Giorgino. Computing and Visualizing Dynamic Time Warping Alignments in R: The dtw Package.\n",
      "  J. Stat. Soft., doi:10.18637/jss.v031.i07.\n",
      "\n"
     ]
    },
    {
     "name": "stderr",
     "output_type": "stream",
     "text": [
      "[nltk_data] Downloading package stopwords to\n",
      "[nltk_data]     C:\\Users\\user\\AppData\\Roaming\\nltk_data...\n",
      "[nltk_data]   Package stopwords is already up-to-date!\n"
     ]
    }
   ],
   "source": [
    "from keybert import KeyBERT\n",
    "import whisper_timestamped as whisper\n",
    "from nltk import download\n",
    "from nltk.corpus import stopwords\n",
    "\n",
    "download(\"stopwords\")\n",
    "YT_LINK = \"/content/vid test.weba\""
   ]
  },
  {
   "cell_type": "markdown",
   "source": [
    "# Hardcoded text"
   ],
   "metadata": {
    "collapsed": false
   }
  },
  {
   "cell_type": "code",
   "execution_count": 7,
   "outputs": [],
   "source": [
    "with open(\"content/oleg.txt\", \"r\", encoding=\"utf-8\") as f:\n",
    "    txt = f.read()"
   ],
   "metadata": {
    "collapsed": false,
    "ExecuteTime": {
     "end_time": "2024-03-18T08:26:51.104225800Z",
     "start_time": "2024-03-18T08:26:51.097971400Z"
    }
   }
  },
  {
   "cell_type": "markdown",
   "source": [
    "# NLP"
   ],
   "metadata": {
    "collapsed": false
   }
  },
  {
   "cell_type": "code",
   "execution_count": 8,
   "outputs": [],
   "source": [
    "from transformers import BertModel, BertTokenizerFast\n",
    "from datasets import Dataset\n",
    "import torch\n",
    "import torch.nn.functional as F\n",
    "import pandas as pd"
   ],
   "metadata": {
    "collapsed": false,
    "ExecuteTime": {
     "end_time": "2024-03-18T08:27:17.380342300Z",
     "start_time": "2024-03-18T08:27:13.645139200Z"
    }
   }
  },
  {
   "cell_type": "code",
   "execution_count": 55,
   "outputs": [
    {
     "data": {
      "text/plain": "tokenizer_config.json:   0%|          | 0.00/49.0 [00:00<?, ?B/s]",
      "application/vnd.jupyter.widget-view+json": {
       "version_major": 2,
       "version_minor": 0,
       "model_id": "bbfd82ec69a4459aaf64faa6921ee597"
      }
     },
     "metadata": {},
     "output_type": "display_data"
    },
    {
     "name": "stderr",
     "output_type": "stream",
     "text": [
      "C:\\Users\\user\\AppData\\Local\\pypoetry\\Cache\\virtualenvs\\nlp-experements-i8WhhMzd-py3.10\\lib\\site-packages\\huggingface_hub\\file_download.py:149: UserWarning: `huggingface_hub` cache-system uses symlinks by default to efficiently store duplicated files but your machine does not support them in C:\\Users\\user\\.cache\\huggingface\\hub\\models--bert-base-multilingual-cased. Caching files will still work but in a degraded version that might require more space on your disk. This warning can be disabled by setting the `HF_HUB_DISABLE_SYMLINKS_WARNING` environment variable. For more details, see https://huggingface.co/docs/huggingface_hub/how-to-cache#limitations.\n",
      "To support symlinks on Windows, you either need to activate Developer Mode or to run Python as an administrator. In order to see activate developer mode, see this article: https://docs.microsoft.com/en-us/windows/apps/get-started/enable-your-device-for-development\n",
      "  warnings.warn(message)\n"
     ]
    },
    {
     "data": {
      "text/plain": "vocab.txt:   0%|          | 0.00/996k [00:00<?, ?B/s]",
      "application/vnd.jupyter.widget-view+json": {
       "version_major": 2,
       "version_minor": 0,
       "model_id": "87e5782c77f84ed8b2b224c02a29edeb"
      }
     },
     "metadata": {},
     "output_type": "display_data"
    },
    {
     "data": {
      "text/plain": "tokenizer.json:   0%|          | 0.00/1.96M [00:00<?, ?B/s]",
      "application/vnd.jupyter.widget-view+json": {
       "version_major": 2,
       "version_minor": 0,
       "model_id": "6b15f004aef6411b9af7cf8cbd3c0484"
      }
     },
     "metadata": {},
     "output_type": "display_data"
    },
    {
     "data": {
      "text/plain": "config.json:   0%|          | 0.00/625 [00:00<?, ?B/s]",
      "application/vnd.jupyter.widget-view+json": {
       "version_major": 2,
       "version_minor": 0,
       "model_id": "cd77db63929e4624bf167603881573af"
      }
     },
     "metadata": {},
     "output_type": "display_data"
    },
    {
     "data": {
      "text/plain": "model.safetensors:   0%|          | 0.00/714M [00:00<?, ?B/s]",
      "application/vnd.jupyter.widget-view+json": {
       "version_major": 2,
       "version_minor": 0,
       "model_id": "4c99c9a341fd4c81b2dcb4b3b4ea2aa3"
      }
     },
     "metadata": {},
     "output_type": "display_data"
    }
   ],
   "source": [
    "model_checkpoint = 'bert-base-multilingual-cased'\n",
    "\n",
    "tokenizer = BertTokenizerFast.from_pretrained(model_checkpoint)\n",
    "model = BertModel.from_pretrained(model_checkpoint)\n",
    "model = model.eval()\n",
    "\n",
    "def get_embeddings(text):\n",
    "\n",
    "  inputs = tokenizer(text, return_tensors=\"pt\", padding=True, truncation=True)\n",
    "  with torch.no_grad():\n",
    "    outputs = model(**inputs)\n",
    "\n",
    "  embeddings = outputs.pooler_output\n",
    "  normalized_embeddings = F.normalize(embeddings, p=2)\n",
    "\n",
    "  return normalized_embeddings"
   ],
   "metadata": {
    "collapsed": false,
    "ExecuteTime": {
     "end_time": "2024-03-18T09:03:06.823840800Z",
     "start_time": "2024-03-18T08:56:11.482403300Z"
    }
   }
  },
  {
   "cell_type": "code",
   "execution_count": 56,
   "outputs": [],
   "source": [
    "kw_model = KeyBERT()\n",
    "\n",
    "tokens = txt.split(\" \")\n",
    "indexed_keywords = {}\n",
    "df = pd.DataFrame(columns=[\"index\", \"keywords\"])\n",
    "for i in range(50, len(tokens), 50):\n",
    "  frag = tokens[i-50: i]\n",
    "  frag = \" \".join(frag)\n",
    "\n",
    "  doc_embeddings, word_embeddings = kw_model.extract_embeddings(frag)\n",
    "  keywords = kw_model.extract_keywords(frag,\n",
    "                                     doc_embeddings=doc_embeddings,\n",
    "                                     word_embeddings=word_embeddings)\n",
    "  indexed_keywords[i] = frag"
   ],
   "metadata": {
    "collapsed": false,
    "ExecuteTime": {
     "end_time": "2024-03-18T09:03:37.614128Z",
     "start_time": "2024-03-18T09:03:20.515451700Z"
    }
   }
  },
  {
   "cell_type": "code",
   "execution_count": 57,
   "outputs": [],
   "source": [
    "values_dict = {\"index\":[], \"frags\":[]}\n",
    "for i, keywords in indexed_keywords.items():\n",
    "  words = \" \".join([k[0] for k in keywords])\n",
    "\n",
    "  values_dict[\"index\"].append(i)\n",
    "  values_dict[\"frags\"].append(keywords)"
   ],
   "metadata": {
    "collapsed": false,
    "ExecuteTime": {
     "end_time": "2024-03-18T09:03:37.630179500Z",
     "start_time": "2024-03-18T09:03:37.616129700Z"
    }
   }
  },
  {
   "cell_type": "code",
   "execution_count": 58,
   "outputs": [
    {
     "data": {
      "text/plain": "   index                                              frags\n0     50  Я очень рад представлять Олега Шатова, который...\n1    100  часть произнесу, что очень рад поприветствоват...\n2    150  вас покидаю.\\nДа, я помучаю тебя вопросами, но...\n3    200  сообщество, что там делаете интересного? Да, с...\n4    250  сотрудничества университета Итмо и компании На...",
      "text/html": "<div>\n<style scoped>\n    .dataframe tbody tr th:only-of-type {\n        vertical-align: middle;\n    }\n\n    .dataframe tbody tr th {\n        vertical-align: top;\n    }\n\n    .dataframe thead th {\n        text-align: right;\n    }\n</style>\n<table border=\"1\" class=\"dataframe\">\n  <thead>\n    <tr style=\"text-align: right;\">\n      <th></th>\n      <th>index</th>\n      <th>frags</th>\n    </tr>\n  </thead>\n  <tbody>\n    <tr>\n      <th>0</th>\n      <td>50</td>\n      <td>Я очень рад представлять Олега Шатова, который...</td>\n    </tr>\n    <tr>\n      <th>1</th>\n      <td>100</td>\n      <td>часть произнесу, что очень рад поприветствоват...</td>\n    </tr>\n    <tr>\n      <th>2</th>\n      <td>150</td>\n      <td>вас покидаю.\\nДа, я помучаю тебя вопросами, но...</td>\n    </tr>\n    <tr>\n      <th>3</th>\n      <td>200</td>\n      <td>сообщество, что там делаете интересного? Да, с...</td>\n    </tr>\n    <tr>\n      <th>4</th>\n      <td>250</td>\n      <td>сотрудничества университета Итмо и компании На...</td>\n    </tr>\n  </tbody>\n</table>\n</div>"
     },
     "execution_count": 58,
     "metadata": {},
     "output_type": "execute_result"
    }
   ],
   "source": [
    "df = pd.DataFrame(values_dict)\n",
    "df.head(5)"
   ],
   "metadata": {
    "collapsed": false,
    "ExecuteTime": {
     "end_time": "2024-03-18T09:03:37.666042500Z",
     "start_time": "2024-03-18T09:03:37.631175Z"
    }
   }
  },
  {
   "cell_type": "code",
   "execution_count": 59,
   "outputs": [
    {
     "data": {
      "text/plain": "Map:   0%|          | 0/76 [00:00<?, ? examples/s]",
      "application/vnd.jupyter.widget-view+json": {
       "version_major": 2,
       "version_minor": 0,
       "model_id": "28df60083825461880d8964d576908ea"
      }
     },
     "metadata": {},
     "output_type": "display_data"
    }
   ],
   "source": [
    "words_dataset = Dataset.from_pandas(df)\n",
    "words_dataset = words_dataset.map(\n",
    "    lambda x: {'text_embeddings': get_embeddings(x[\"frags\"])[0]}\n",
    ")"
   ],
   "metadata": {
    "collapsed": false,
    "ExecuteTime": {
     "end_time": "2024-03-18T09:03:52.870672500Z",
     "start_time": "2024-03-18T09:03:37.648987100Z"
    }
   }
  },
  {
   "cell_type": "code",
   "execution_count": 60,
   "outputs": [
    {
     "data": {
      "text/plain": "   index                                              frags  \\\n0     50  Я очень рад представлять Олега Шатова, который...   \n1    100  часть произнесу, что очень рад поприветствоват...   \n2    150  вас покидаю.\\nДа, я помучаю тебя вопросами, но...   \n3    200  сообщество, что там делаете интересного? Да, с...   \n4    250  сотрудничества университета Итмо и компании На...   \n\n                                     text_embeddings  \n0  [0.048393887, -0.019466672, 0.019621193, -0.02...  \n1  [0.020003136, -0.015551811, 0.0002919152, -0.0...  \n2  [0.036019783, -0.01801094, 0.03005353, -0.0385...  \n3  [0.02511374, -0.019059332, 0.01801791, -0.0291...  \n4  [0.02118397, -0.0044696275, 0.012324263, -0.02...  ",
      "text/html": "<div>\n<style scoped>\n    .dataframe tbody tr th:only-of-type {\n        vertical-align: middle;\n    }\n\n    .dataframe tbody tr th {\n        vertical-align: top;\n    }\n\n    .dataframe thead th {\n        text-align: right;\n    }\n</style>\n<table border=\"1\" class=\"dataframe\">\n  <thead>\n    <tr style=\"text-align: right;\">\n      <th></th>\n      <th>index</th>\n      <th>frags</th>\n      <th>text_embeddings</th>\n    </tr>\n  </thead>\n  <tbody>\n    <tr>\n      <th>0</th>\n      <td>50</td>\n      <td>Я очень рад представлять Олега Шатова, который...</td>\n      <td>[0.048393887, -0.019466672, 0.019621193, -0.02...</td>\n    </tr>\n    <tr>\n      <th>1</th>\n      <td>100</td>\n      <td>часть произнесу, что очень рад поприветствоват...</td>\n      <td>[0.020003136, -0.015551811, 0.0002919152, -0.0...</td>\n    </tr>\n    <tr>\n      <th>2</th>\n      <td>150</td>\n      <td>вас покидаю.\\nДа, я помучаю тебя вопросами, но...</td>\n      <td>[0.036019783, -0.01801094, 0.03005353, -0.0385...</td>\n    </tr>\n    <tr>\n      <th>3</th>\n      <td>200</td>\n      <td>сообщество, что там делаете интересного? Да, с...</td>\n      <td>[0.02511374, -0.019059332, 0.01801791, -0.0291...</td>\n    </tr>\n    <tr>\n      <th>4</th>\n      <td>250</td>\n      <td>сотрудничества университета Итмо и компании На...</td>\n      <td>[0.02118397, -0.0044696275, 0.012324263, -0.02...</td>\n    </tr>\n  </tbody>\n</table>\n</div>"
     },
     "execution_count": 60,
     "metadata": {},
     "output_type": "execute_result"
    }
   ],
   "source": [
    "words_dataset.to_pandas().head()"
   ],
   "metadata": {
    "collapsed": false,
    "ExecuteTime": {
     "end_time": "2024-03-18T09:03:52.925879200Z",
     "start_time": "2024-03-18T09:03:52.873189600Z"
    }
   }
  },
  {
   "cell_type": "code",
   "execution_count": 61,
   "outputs": [
    {
     "data": {
      "text/plain": "  0%|          | 0/1 [00:00<?, ?it/s]",
      "application/vnd.jupyter.widget-view+json": {
       "version_major": 2,
       "version_minor": 0,
       "model_id": "874123172e7340a2b13ae64bb2647c05"
      }
     },
     "metadata": {},
     "output_type": "display_data"
    }
   ],
   "source": [
    "words_dataset = words_dataset.add_faiss_index(column='text_embeddings')"
   ],
   "metadata": {
    "collapsed": false,
    "ExecuteTime": {
     "end_time": "2024-03-18T09:03:52.945223700Z",
     "start_time": "2024-03-18T09:03:52.900755Z"
    }
   }
  },
  {
   "cell_type": "code",
   "execution_count": 83,
   "outputs": [
    {
     "data": {
      "text/plain": "   index                                              frags  \\\n0     50  Я очень рад представлять Олега Шатова, который...   \n1    100  часть произнесу, что очень рад поприветствоват...   \n2    150  вас покидаю.\\nДа, я помучаю тебя вопросами, но...   \n3    200  сообщество, что там делаете интересного? Да, с...   \n4    250  сотрудничества университета Итмо и компании На...   \n\n                                     text_embeddings  \n0  [0.048393887, -0.019466672, 0.019621193, -0.02...  \n1  [0.020003136, -0.015551811, 0.0002919152, -0.0...  \n2  [0.036019783, -0.01801094, 0.03005353, -0.0385...  \n3  [0.02511374, -0.019059332, 0.01801791, -0.0291...  \n4  [0.02118397, -0.0044696275, 0.012324263, -0.02...  ",
      "text/html": "<div>\n<style scoped>\n    .dataframe tbody tr th:only-of-type {\n        vertical-align: middle;\n    }\n\n    .dataframe tbody tr th {\n        vertical-align: top;\n    }\n\n    .dataframe thead th {\n        text-align: right;\n    }\n</style>\n<table border=\"1\" class=\"dataframe\">\n  <thead>\n    <tr style=\"text-align: right;\">\n      <th></th>\n      <th>index</th>\n      <th>frags</th>\n      <th>text_embeddings</th>\n    </tr>\n  </thead>\n  <tbody>\n    <tr>\n      <th>0</th>\n      <td>50</td>\n      <td>Я очень рад представлять Олега Шатова, который...</td>\n      <td>[0.048393887, -0.019466672, 0.019621193, -0.02...</td>\n    </tr>\n    <tr>\n      <th>1</th>\n      <td>100</td>\n      <td>часть произнесу, что очень рад поприветствоват...</td>\n      <td>[0.020003136, -0.015551811, 0.0002919152, -0.0...</td>\n    </tr>\n    <tr>\n      <th>2</th>\n      <td>150</td>\n      <td>вас покидаю.\\nДа, я помучаю тебя вопросами, но...</td>\n      <td>[0.036019783, -0.01801094, 0.03005353, -0.0385...</td>\n    </tr>\n    <tr>\n      <th>3</th>\n      <td>200</td>\n      <td>сообщество, что там делаете интересного? Да, с...</td>\n      <td>[0.02511374, -0.019059332, 0.01801791, -0.0291...</td>\n    </tr>\n    <tr>\n      <th>4</th>\n      <td>250</td>\n      <td>сотрудничества университета Итмо и компании На...</td>\n      <td>[0.02118397, -0.0044696275, 0.012324263, -0.02...</td>\n    </tr>\n  </tbody>\n</table>\n</div>"
     },
     "execution_count": 83,
     "metadata": {},
     "output_type": "execute_result"
    }
   ],
   "source": [
    "test_frag_0 = words_dataset.to_pandas().head()['text_embeddings'][4]\n",
    "words_dataset.to_pandas().head()"
   ],
   "metadata": {
    "collapsed": false,
    "ExecuteTime": {
     "end_time": "2024-03-18T09:07:23.982425800Z",
     "start_time": "2024-03-18T09:07:23.954781100Z"
    }
   }
  },
  {
   "cell_type": "code",
   "execution_count": 84,
   "outputs": [],
   "source": [
    "scores, samples = words_dataset.get_nearest_examples('text_embeddings',test_frag_0, k=15)\n"
   ],
   "metadata": {
    "collapsed": false,
    "ExecuteTime": {
     "end_time": "2024-03-18T09:07:24.178776600Z",
     "start_time": "2024-03-18T09:07:24.153838400Z"
    }
   }
  },
  {
   "cell_type": "code",
   "execution_count": 85,
   "outputs": [
    {
     "data": {
      "text/plain": "[250,\n 2550,\n 850,\n 1300,\n 2750,\n 2650,\n 450,\n 200,\n 2050,\n 1500,\n 3400,\n 1100,\n 1350,\n 2400,\n 150]"
     },
     "execution_count": 85,
     "metadata": {},
     "output_type": "execute_result"
    }
   ],
   "source": [
    "samples['index']"
   ],
   "metadata": {
    "collapsed": false,
    "ExecuteTime": {
     "end_time": "2024-03-18T09:07:24.870145500Z",
     "start_time": "2024-03-18T09:07:24.859050900Z"
    }
   }
  },
  {
   "cell_type": "code",
   "execution_count": null,
   "outputs": [],
   "source": [],
   "metadata": {
    "collapsed": false
   }
  }
 ],
 "metadata": {
  "kernelspec": {
   "display_name": "Python 3",
   "language": "python",
   "name": "python3"
  },
  "language_info": {
   "codemirror_mode": {
    "name": "ipython",
    "version": 2
   },
   "file_extension": ".py",
   "mimetype": "text/x-python",
   "name": "python",
   "nbconvert_exporter": "python",
   "pygments_lexer": "ipython2",
   "version": "2.7.6"
  }
 },
 "nbformat": 4,
 "nbformat_minor": 0
}
