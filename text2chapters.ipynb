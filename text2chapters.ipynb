{
 "cells": [
  {
   "cell_type": "code",
   "execution_count": 1,
   "metadata": {
    "collapsed": true,
    "ExecuteTime": {
     "end_time": "2024-03-18T15:37:32.721725500Z",
     "start_time": "2024-03-18T15:37:10.863764600Z"
    }
   },
   "outputs": [
    {
     "name": "stdout",
     "output_type": "stream",
     "text": [
      "Importing the dtw module. When using in academic works please cite:\n",
      "  T. Giorgino. Computing and Visualizing Dynamic Time Warping Alignments in R: The dtw Package.\n",
      "  J. Stat. Soft., doi:10.18637/jss.v031.i07.\n",
      "\n"
     ]
    },
    {
     "name": "stderr",
     "output_type": "stream",
     "text": [
      "[nltk_data] Downloading package stopwords to\n",
      "[nltk_data]     C:\\Users\\user\\AppData\\Roaming\\nltk_data...\n",
      "[nltk_data]   Package stopwords is already up-to-date!\n"
     ]
    }
   ],
   "source": [
    "from keybert import KeyBERT\n",
    "import whisper_timestamped as whisper\n",
    "from nltk import download\n",
    "from nltk.corpus import stopwords\n",
    "\n",
    "download(\"stopwords\")\n",
    "YT_LINK = \"/content/vid test.weba\""
   ]
  },
  {
   "cell_type": "markdown",
   "source": [
    "# Hardcoded text"
   ],
   "metadata": {
    "collapsed": false
   }
  },
  {
   "cell_type": "code",
   "execution_count": 2,
   "outputs": [],
   "source": [
    "with open(\"content/oleg.txt\", \"r\", encoding=\"utf-8\") as f:\n",
    "    txt = f.read()"
   ],
   "metadata": {
    "collapsed": false,
    "ExecuteTime": {
     "end_time": "2024-03-18T15:37:32.736244600Z",
     "start_time": "2024-03-18T15:37:32.725231200Z"
    }
   }
  },
  {
   "cell_type": "markdown",
   "source": [
    "# NLP"
   ],
   "metadata": {
    "collapsed": false
   }
  },
  {
   "cell_type": "code",
   "execution_count": 3,
   "outputs": [],
   "source": [
    "from transformers import BertModel, BertTokenizerFast\n",
    "from datasets import Dataset\n",
    "import torch\n",
    "import torch.nn.functional as F\n",
    "import pandas as pd"
   ],
   "metadata": {
    "collapsed": false,
    "ExecuteTime": {
     "end_time": "2024-03-18T15:37:35.137340600Z",
     "start_time": "2024-03-18T15:37:32.739237800Z"
    }
   }
  },
  {
   "cell_type": "code",
   "execution_count": 4,
   "outputs": [],
   "source": [
    "model_checkpoint = 'bert-base-multilingual-cased'\n",
    "\n",
    "tokenizer = BertTokenizerFast.from_pretrained(model_checkpoint)\n",
    "model = BertModel.from_pretrained(model_checkpoint)\n",
    "model = model.eval()\n",
    "\n",
    "def get_embeddings(text):\n",
    "\n",
    "  inputs = tokenizer(text, return_tensors=\"pt\", padding=True, truncation=True)\n",
    "  with torch.no_grad():\n",
    "    outputs = model(**inputs)\n",
    "\n",
    "  embeddings = outputs.pooler_output\n",
    "  normalized_embeddings = F.normalize(embeddings, p=2)\n",
    "\n",
    "  return normalized_embeddings"
   ],
   "metadata": {
    "collapsed": false,
    "ExecuteTime": {
     "end_time": "2024-03-18T15:37:39.272875200Z",
     "start_time": "2024-03-18T15:37:35.141342200Z"
    }
   }
  },
  {
   "cell_type": "code",
   "execution_count": 44,
   "outputs": [],
   "source": [
    "kw_model = KeyBERT()\n",
    "\n",
    "tokens = txt.split(\" \")\n",
    "indexed_keywords = {}\n",
    "df = pd.DataFrame(columns=[\"index\", \"keywords\"])\n",
    "for i in range(200, len(tokens), 200):\n",
    "  frag = tokens[i-200: i]\n",
    "  frag = \" \".join(frag)\n",
    "\n",
    "  doc_embeddings, word_embeddings = kw_model.extract_embeddings(frag)\n",
    "  keywords = kw_model.extract_keywords(frag,\n",
    "                                     doc_embeddings=doc_embeddings,\n",
    "                                     word_embeddings=word_embeddings)\n",
    "  indexed_keywords[i] = keywords"
   ],
   "metadata": {
    "collapsed": false,
    "ExecuteTime": {
     "end_time": "2024-03-18T15:49:54.002607900Z",
     "start_time": "2024-03-18T15:49:44.375191Z"
    }
   }
  },
  {
   "cell_type": "code",
   "execution_count": 45,
   "outputs": [],
   "source": [
    "values_dict = {\"index\":[], \"frags\":[]}\n",
    "for i, keywords in indexed_keywords.items():\n",
    "  words = \" \".join([k[0] for k in keywords])\n",
    "\n",
    "  values_dict[\"index\"].append(i)\n",
    "  values_dict[\"frags\"].append(words)"
   ],
   "metadata": {
    "collapsed": false,
    "ExecuteTime": {
     "end_time": "2024-03-18T15:49:54.020203900Z",
     "start_time": "2024-03-18T15:49:54.005606700Z"
    }
   }
  },
  {
   "cell_type": "code",
   "execution_count": 46,
   "outputs": [
    {
     "data": {
      "text/plain": "   index                                              frags\n0    200            покидаю алгоритм годы комьюнити приятно\n1    400  передовой школой сотрудничества подготовки сейчас\n2    600  экспертизы экспертиза монокорпоративную формат...\n3    800  формируется алгоритм компания продуктовыми про...\n4   1000  инженерами доследовательской командной возможн...",
      "text/html": "<div>\n<style scoped>\n    .dataframe tbody tr th:only-of-type {\n        vertical-align: middle;\n    }\n\n    .dataframe tbody tr th {\n        vertical-align: top;\n    }\n\n    .dataframe thead th {\n        text-align: right;\n    }\n</style>\n<table border=\"1\" class=\"dataframe\">\n  <thead>\n    <tr style=\"text-align: right;\">\n      <th></th>\n      <th>index</th>\n      <th>frags</th>\n    </tr>\n  </thead>\n  <tbody>\n    <tr>\n      <th>0</th>\n      <td>200</td>\n      <td>покидаю алгоритм годы комьюнити приятно</td>\n    </tr>\n    <tr>\n      <th>1</th>\n      <td>400</td>\n      <td>передовой школой сотрудничества подготовки сейчас</td>\n    </tr>\n    <tr>\n      <th>2</th>\n      <td>600</td>\n      <td>экспертизы экспертиза монокорпоративную формат...</td>\n    </tr>\n    <tr>\n      <th>3</th>\n      <td>800</td>\n      <td>формируется алгоритм компания продуктовыми про...</td>\n    </tr>\n    <tr>\n      <th>4</th>\n      <td>1000</td>\n      <td>инженерами доследовательской командной возможн...</td>\n    </tr>\n  </tbody>\n</table>\n</div>"
     },
     "execution_count": 46,
     "metadata": {},
     "output_type": "execute_result"
    }
   ],
   "source": [
    "df = pd.DataFrame(values_dict)\n",
    "df.head(5)"
   ],
   "metadata": {
    "collapsed": false,
    "ExecuteTime": {
     "end_time": "2024-03-18T15:49:54.053609400Z",
     "start_time": "2024-03-18T15:49:54.020203900Z"
    }
   }
  },
  {
   "cell_type": "code",
   "execution_count": 47,
   "outputs": [
    {
     "data": {
      "text/plain": "Map:   0%|          | 0/19 [00:00<?, ? examples/s]",
      "application/vnd.jupyter.widget-view+json": {
       "version_major": 2,
       "version_minor": 0,
       "model_id": "42274b2e8a5143eaa687ee6855036af7"
      }
     },
     "metadata": {},
     "output_type": "display_data"
    }
   ],
   "source": [
    "words_dataset = Dataset.from_pandas(df)\n",
    "words_dataset = words_dataset.map(\n",
    "    lambda x: {'text_embeddings': get_embeddings(x[\"frags\"])[0]}\n",
    ")"
   ],
   "metadata": {
    "collapsed": false,
    "ExecuteTime": {
     "end_time": "2024-03-18T15:49:57.763915100Z",
     "start_time": "2024-03-18T15:49:54.036320300Z"
    }
   }
  },
  {
   "cell_type": "code",
   "execution_count": 48,
   "outputs": [
    {
     "data": {
      "text/plain": "   index                                              frags  \\\n0    200            покидаю алгоритм годы комьюнити приятно   \n1    400  передовой школой сотрудничества подготовки сейчас   \n2    600  экспертизы экспертиза монокорпоративную формат...   \n3    800  формируется алгоритм компания продуктовыми про...   \n4   1000  инженерами доследовательской командной возможн...   \n\n                                     text_embeddings  \n0  [0.028846072, -0.022257075, 0.025537428, -0.01...  \n1  [0.035737332, -0.02563613, 0.025720645, -0.023...  \n2  [0.032574058, -0.0206053, 0.020763565, -0.0272...  \n3  [0.023455705, -0.005366963, 0.022595434, -0.01...  \n4  [0.026208678, -0.0130467275, 0.014915336, -0.0...  ",
      "text/html": "<div>\n<style scoped>\n    .dataframe tbody tr th:only-of-type {\n        vertical-align: middle;\n    }\n\n    .dataframe tbody tr th {\n        vertical-align: top;\n    }\n\n    .dataframe thead th {\n        text-align: right;\n    }\n</style>\n<table border=\"1\" class=\"dataframe\">\n  <thead>\n    <tr style=\"text-align: right;\">\n      <th></th>\n      <th>index</th>\n      <th>frags</th>\n      <th>text_embeddings</th>\n    </tr>\n  </thead>\n  <tbody>\n    <tr>\n      <th>0</th>\n      <td>200</td>\n      <td>покидаю алгоритм годы комьюнити приятно</td>\n      <td>[0.028846072, -0.022257075, 0.025537428, -0.01...</td>\n    </tr>\n    <tr>\n      <th>1</th>\n      <td>400</td>\n      <td>передовой школой сотрудничества подготовки сейчас</td>\n      <td>[0.035737332, -0.02563613, 0.025720645, -0.023...</td>\n    </tr>\n    <tr>\n      <th>2</th>\n      <td>600</td>\n      <td>экспертизы экспертиза монокорпоративную формат...</td>\n      <td>[0.032574058, -0.0206053, 0.020763565, -0.0272...</td>\n    </tr>\n    <tr>\n      <th>3</th>\n      <td>800</td>\n      <td>формируется алгоритм компания продуктовыми про...</td>\n      <td>[0.023455705, -0.005366963, 0.022595434, -0.01...</td>\n    </tr>\n    <tr>\n      <th>4</th>\n      <td>1000</td>\n      <td>инженерами доследовательской командной возможн...</td>\n      <td>[0.026208678, -0.0130467275, 0.014915336, -0.0...</td>\n    </tr>\n  </tbody>\n</table>\n</div>"
     },
     "execution_count": 48,
     "metadata": {},
     "output_type": "execute_result"
    }
   ],
   "source": [
    "words_dataset.to_pandas().head()"
   ],
   "metadata": {
    "collapsed": false,
    "ExecuteTime": {
     "end_time": "2024-03-18T15:49:57.805636200Z",
     "start_time": "2024-03-18T15:49:57.766935500Z"
    }
   }
  },
  {
   "cell_type": "code",
   "execution_count": 49,
   "outputs": [
    {
     "data": {
      "text/plain": "  0%|          | 0/1 [00:00<?, ?it/s]",
      "application/vnd.jupyter.widget-view+json": {
       "version_major": 2,
       "version_minor": 0,
       "model_id": "8b7d7d8b201b423088015f51866159fe"
      }
     },
     "metadata": {},
     "output_type": "display_data"
    }
   ],
   "source": [
    "words_dataset = words_dataset.add_faiss_index(column='text_embeddings')"
   ],
   "metadata": {
    "collapsed": false,
    "ExecuteTime": {
     "end_time": "2024-03-18T15:49:57.833146700Z",
     "start_time": "2024-03-18T15:49:57.797124Z"
    }
   }
  },
  {
   "cell_type": "code",
   "execution_count": 55,
   "outputs": [
    {
     "data": {
      "text/plain": "   index                                              frags  \\\n0    200            покидаю алгоритм годы комьюнити приятно   \n1    400  передовой школой сотрудничества подготовки сейчас   \n2    600  экспертизы экспертиза монокорпоративную формат...   \n3    800  формируется алгоритм компания продуктовыми про...   \n4   1000  инженерами доследовательской командной возможн...   \n\n                                     text_embeddings  \n0  [0.028846072, -0.022257075, 0.025537428, -0.01...  \n1  [0.035737332, -0.02563613, 0.025720645, -0.023...  \n2  [0.032574058, -0.0206053, 0.020763565, -0.0272...  \n3  [0.023455705, -0.005366963, 0.022595434, -0.01...  \n4  [0.026208678, -0.0130467275, 0.014915336, -0.0...  ",
      "text/html": "<div>\n<style scoped>\n    .dataframe tbody tr th:only-of-type {\n        vertical-align: middle;\n    }\n\n    .dataframe tbody tr th {\n        vertical-align: top;\n    }\n\n    .dataframe thead th {\n        text-align: right;\n    }\n</style>\n<table border=\"1\" class=\"dataframe\">\n  <thead>\n    <tr style=\"text-align: right;\">\n      <th></th>\n      <th>index</th>\n      <th>frags</th>\n      <th>text_embeddings</th>\n    </tr>\n  </thead>\n  <tbody>\n    <tr>\n      <th>0</th>\n      <td>200</td>\n      <td>покидаю алгоритм годы комьюнити приятно</td>\n      <td>[0.028846072, -0.022257075, 0.025537428, -0.01...</td>\n    </tr>\n    <tr>\n      <th>1</th>\n      <td>400</td>\n      <td>передовой школой сотрудничества подготовки сейчас</td>\n      <td>[0.035737332, -0.02563613, 0.025720645, -0.023...</td>\n    </tr>\n    <tr>\n      <th>2</th>\n      <td>600</td>\n      <td>экспертизы экспертиза монокорпоративную формат...</td>\n      <td>[0.032574058, -0.0206053, 0.020763565, -0.0272...</td>\n    </tr>\n    <tr>\n      <th>3</th>\n      <td>800</td>\n      <td>формируется алгоритм компания продуктовыми про...</td>\n      <td>[0.023455705, -0.005366963, 0.022595434, -0.01...</td>\n    </tr>\n    <tr>\n      <th>4</th>\n      <td>1000</td>\n      <td>инженерами доследовательской командной возможн...</td>\n      <td>[0.026208678, -0.0130467275, 0.014915336, -0.0...</td>\n    </tr>\n  </tbody>\n</table>\n</div>"
     },
     "execution_count": 55,
     "metadata": {},
     "output_type": "execute_result"
    }
   ],
   "source": [
    "test_frag_1 = words_dataset.to_pandas().head()['text_embeddings'][1]\n",
    "words_dataset.to_pandas().head()"
   ],
   "metadata": {
    "collapsed": false,
    "ExecuteTime": {
     "end_time": "2024-03-18T16:19:58.712847300Z",
     "start_time": "2024-03-18T16:19:58.651738900Z"
    }
   }
  },
  {
   "cell_type": "code",
   "execution_count": 63,
   "outputs": [
    {
     "data": {
      "text/plain": "[('покидаю', 0.3988),\n ('алгоритм', 0.3596),\n ('годы', 0.3579),\n ('комьюнити', 0.3568),\n ('приятно', 0.3564)]"
     },
     "execution_count": 63,
     "metadata": {},
     "output_type": "execute_result"
    }
   ],
   "source": [
    "indexed_keywords[200]"
   ],
   "metadata": {
    "collapsed": false,
    "ExecuteTime": {
     "end_time": "2024-03-18T16:22:57.779873300Z",
     "start_time": "2024-03-18T16:22:57.731953100Z"
    }
   }
  },
  {
   "cell_type": "code",
   "execution_count": 64,
   "outputs": [],
   "source": [
    "scores, samples = words_dataset.get_nearest_examples('text_embeddings',test_frag_1, k=15)\n",
    "demo_df = pd.DataFrame({\"index\":samples['index']})\n",
    "demo_df[\"score_to_1\"] = scores\n",
    "demo_df[\"keywords\"] = demo_df[\"index\"].apply(lambda x: [w[0] for w in indexed_keywords[x]])"
   ],
   "metadata": {
    "collapsed": false,
    "ExecuteTime": {
     "end_time": "2024-03-18T16:23:29.468688200Z",
     "start_time": "2024-03-18T16:23:29.436428200Z"
    }
   }
  },
  {
   "cell_type": "code",
   "execution_count": 65,
   "outputs": [
    {
     "data": {
      "text/plain": "    index  score_to_5                                           keywords\n0     400    0.000000  [передовой, школой, сотрудничества, подготовки...\n1    3000    0.043668  [профилю, роли, образовательный, хотели, биоте...\n2    3800    0.043825  [взаимодействия, разной, конверсия, поисковике...\n3    2200    0.045507  [нанимающими, какой, требования, компаниях, ко...\n4     600    0.046161  [экспертизы, экспертиза, монокорпоративную, фо...\n5    1600    0.049893  [взаимодействия, который, эксперты, исходим, с...\n6    1000    0.057495  [инженерами, доследовательской, командной, воз...\n7     800    0.062978  [формируется, алгоритм, компания, продуктовыми...\n8    1400    0.063792  [новосибирск, инструментария, бизнес, бизнесом...\n9    1800    0.066138  [помогают, программировали, приходит, возможно...\n10   2000    0.081485      [нахождения, изжили, модели, делали, позиции]\n11   3600    0.082639  [коммерческие, понимание, искра, специалистов,...\n12   3400    0.085586  [измениться, изменится, изменениями, статьи, г...\n13    200    0.094090      [покидаю, алгоритм, годы, комьюнити, приятно]\n14   1200    0.108694        [ценность, песточницу, целом, просто, сути]",
      "text/html": "<div>\n<style scoped>\n    .dataframe tbody tr th:only-of-type {\n        vertical-align: middle;\n    }\n\n    .dataframe tbody tr th {\n        vertical-align: top;\n    }\n\n    .dataframe thead th {\n        text-align: right;\n    }\n</style>\n<table border=\"1\" class=\"dataframe\">\n  <thead>\n    <tr style=\"text-align: right;\">\n      <th></th>\n      <th>index</th>\n      <th>score_to_5</th>\n      <th>keywords</th>\n    </tr>\n  </thead>\n  <tbody>\n    <tr>\n      <th>0</th>\n      <td>400</td>\n      <td>0.000000</td>\n      <td>[передовой, школой, сотрудничества, подготовки...</td>\n    </tr>\n    <tr>\n      <th>1</th>\n      <td>3000</td>\n      <td>0.043668</td>\n      <td>[профилю, роли, образовательный, хотели, биоте...</td>\n    </tr>\n    <tr>\n      <th>2</th>\n      <td>3800</td>\n      <td>0.043825</td>\n      <td>[взаимодействия, разной, конверсия, поисковике...</td>\n    </tr>\n    <tr>\n      <th>3</th>\n      <td>2200</td>\n      <td>0.045507</td>\n      <td>[нанимающими, какой, требования, компаниях, ко...</td>\n    </tr>\n    <tr>\n      <th>4</th>\n      <td>600</td>\n      <td>0.046161</td>\n      <td>[экспертизы, экспертиза, монокорпоративную, фо...</td>\n    </tr>\n    <tr>\n      <th>5</th>\n      <td>1600</td>\n      <td>0.049893</td>\n      <td>[взаимодействия, который, эксперты, исходим, с...</td>\n    </tr>\n    <tr>\n      <th>6</th>\n      <td>1000</td>\n      <td>0.057495</td>\n      <td>[инженерами, доследовательской, командной, воз...</td>\n    </tr>\n    <tr>\n      <th>7</th>\n      <td>800</td>\n      <td>0.062978</td>\n      <td>[формируется, алгоритм, компания, продуктовыми...</td>\n    </tr>\n    <tr>\n      <th>8</th>\n      <td>1400</td>\n      <td>0.063792</td>\n      <td>[новосибирск, инструментария, бизнес, бизнесом...</td>\n    </tr>\n    <tr>\n      <th>9</th>\n      <td>1800</td>\n      <td>0.066138</td>\n      <td>[помогают, программировали, приходит, возможно...</td>\n    </tr>\n    <tr>\n      <th>10</th>\n      <td>2000</td>\n      <td>0.081485</td>\n      <td>[нахождения, изжили, модели, делали, позиции]</td>\n    </tr>\n    <tr>\n      <th>11</th>\n      <td>3600</td>\n      <td>0.082639</td>\n      <td>[коммерческие, понимание, искра, специалистов,...</td>\n    </tr>\n    <tr>\n      <th>12</th>\n      <td>3400</td>\n      <td>0.085586</td>\n      <td>[измениться, изменится, изменениями, статьи, г...</td>\n    </tr>\n    <tr>\n      <th>13</th>\n      <td>200</td>\n      <td>0.094090</td>\n      <td>[покидаю, алгоритм, годы, комьюнити, приятно]</td>\n    </tr>\n    <tr>\n      <th>14</th>\n      <td>1200</td>\n      <td>0.108694</td>\n      <td>[ценность, песточницу, целом, просто, сути]</td>\n    </tr>\n  </tbody>\n</table>\n</div>"
     },
     "execution_count": 65,
     "metadata": {},
     "output_type": "execute_result"
    }
   ],
   "source": [
    "demo_df"
   ],
   "metadata": {
    "collapsed": false,
    "ExecuteTime": {
     "end_time": "2024-03-18T16:23:30.466367300Z",
     "start_time": "2024-03-18T16:23:30.435901400Z"
    }
   }
  },
  {
   "cell_type": "code",
   "execution_count": null,
   "outputs": [],
   "source": [],
   "metadata": {
    "collapsed": false
   }
  }
 ],
 "metadata": {
  "kernelspec": {
   "display_name": "Python 3",
   "language": "python",
   "name": "python3"
  },
  "language_info": {
   "codemirror_mode": {
    "name": "ipython",
    "version": 2
   },
   "file_extension": ".py",
   "mimetype": "text/x-python",
   "name": "python",
   "nbconvert_exporter": "python",
   "pygments_lexer": "ipython2",
   "version": "2.7.6"
  }
 },
 "nbformat": 4,
 "nbformat_minor": 0
}
